{
 "cells": [
  {
   "cell_type": "code",
   "execution_count": 13,
   "id": "e674ebb5-7706-4c0f-bf7c-04cccc069dd0",
   "metadata": {},
   "outputs": [],
   "source": [
    "import pandas as pd\n",
    "import numpy as np\n",
    "import matplotlib.pyplot as plt\n",
    "import seaborn as sns"
   ]
  },
  {
   "cell_type": "code",
   "execution_count": 14,
   "id": "1993e1d3-f155-47ed-8133-2d5fce865969",
   "metadata": {},
   "outputs": [],
   "source": [
    "file_path = \"Dataset .csv\"\n",
    "dataset = pd.read_csv(file_path)"
   ]
  },
  {
   "cell_type": "code",
   "execution_count": 15,
   "id": "525092b2-57d5-43f3-bbce-400f8540211f",
   "metadata": {},
   "outputs": [
    {
     "data": {
      "text/html": [
       "<div>\n",
       "<style scoped>\n",
       "    .dataframe tbody tr th:only-of-type {\n",
       "        vertical-align: middle;\n",
       "    }\n",
       "\n",
       "    .dataframe tbody tr th {\n",
       "        vertical-align: top;\n",
       "    }\n",
       "\n",
       "    .dataframe thead th {\n",
       "        text-align: right;\n",
       "    }\n",
       "</style>\n",
       "<table border=\"1\" class=\"dataframe\">\n",
       "  <thead>\n",
       "    <tr style=\"text-align: right;\">\n",
       "      <th></th>\n",
       "      <th>Restaurant ID</th>\n",
       "      <th>Restaurant Name</th>\n",
       "      <th>Country Code</th>\n",
       "      <th>City</th>\n",
       "      <th>Address</th>\n",
       "      <th>Locality</th>\n",
       "      <th>Locality Verbose</th>\n",
       "      <th>Longitude</th>\n",
       "      <th>Latitude</th>\n",
       "      <th>Cuisines</th>\n",
       "      <th>...</th>\n",
       "      <th>Currency</th>\n",
       "      <th>Has Table booking</th>\n",
       "      <th>Has Online delivery</th>\n",
       "      <th>Is delivering now</th>\n",
       "      <th>Switch to order menu</th>\n",
       "      <th>Price range</th>\n",
       "      <th>Aggregate rating</th>\n",
       "      <th>Rating color</th>\n",
       "      <th>Rating text</th>\n",
       "      <th>Votes</th>\n",
       "    </tr>\n",
       "  </thead>\n",
       "  <tbody>\n",
       "    <tr>\n",
       "      <th>0</th>\n",
       "      <td>6317637</td>\n",
       "      <td>Le Petit Souffle</td>\n",
       "      <td>162</td>\n",
       "      <td>Makati City</td>\n",
       "      <td>Third Floor, Century City Mall, Kalayaan Avenu...</td>\n",
       "      <td>Century City Mall, Poblacion, Makati City</td>\n",
       "      <td>Century City Mall, Poblacion, Makati City, Mak...</td>\n",
       "      <td>121.027535</td>\n",
       "      <td>14.565443</td>\n",
       "      <td>French, Japanese, Desserts</td>\n",
       "      <td>...</td>\n",
       "      <td>Botswana Pula(P)</td>\n",
       "      <td>Yes</td>\n",
       "      <td>No</td>\n",
       "      <td>No</td>\n",
       "      <td>No</td>\n",
       "      <td>3</td>\n",
       "      <td>4.8</td>\n",
       "      <td>Dark Green</td>\n",
       "      <td>Excellent</td>\n",
       "      <td>314</td>\n",
       "    </tr>\n",
       "    <tr>\n",
       "      <th>1</th>\n",
       "      <td>6304287</td>\n",
       "      <td>Izakaya Kikufuji</td>\n",
       "      <td>162</td>\n",
       "      <td>Makati City</td>\n",
       "      <td>Little Tokyo, 2277 Chino Roces Avenue, Legaspi...</td>\n",
       "      <td>Little Tokyo, Legaspi Village, Makati City</td>\n",
       "      <td>Little Tokyo, Legaspi Village, Makati City, Ma...</td>\n",
       "      <td>121.014101</td>\n",
       "      <td>14.553708</td>\n",
       "      <td>Japanese</td>\n",
       "      <td>...</td>\n",
       "      <td>Botswana Pula(P)</td>\n",
       "      <td>Yes</td>\n",
       "      <td>No</td>\n",
       "      <td>No</td>\n",
       "      <td>No</td>\n",
       "      <td>3</td>\n",
       "      <td>4.5</td>\n",
       "      <td>Dark Green</td>\n",
       "      <td>Excellent</td>\n",
       "      <td>591</td>\n",
       "    </tr>\n",
       "    <tr>\n",
       "      <th>2</th>\n",
       "      <td>6300002</td>\n",
       "      <td>Heat - Edsa Shangri-La</td>\n",
       "      <td>162</td>\n",
       "      <td>Mandaluyong City</td>\n",
       "      <td>Edsa Shangri-La, 1 Garden Way, Ortigas, Mandal...</td>\n",
       "      <td>Edsa Shangri-La, Ortigas, Mandaluyong City</td>\n",
       "      <td>Edsa Shangri-La, Ortigas, Mandaluyong City, Ma...</td>\n",
       "      <td>121.056831</td>\n",
       "      <td>14.581404</td>\n",
       "      <td>Seafood, Asian, Filipino, Indian</td>\n",
       "      <td>...</td>\n",
       "      <td>Botswana Pula(P)</td>\n",
       "      <td>Yes</td>\n",
       "      <td>No</td>\n",
       "      <td>No</td>\n",
       "      <td>No</td>\n",
       "      <td>4</td>\n",
       "      <td>4.4</td>\n",
       "      <td>Green</td>\n",
       "      <td>Very Good</td>\n",
       "      <td>270</td>\n",
       "    </tr>\n",
       "    <tr>\n",
       "      <th>3</th>\n",
       "      <td>6318506</td>\n",
       "      <td>Ooma</td>\n",
       "      <td>162</td>\n",
       "      <td>Mandaluyong City</td>\n",
       "      <td>Third Floor, Mega Fashion Hall, SM Megamall, O...</td>\n",
       "      <td>SM Megamall, Ortigas, Mandaluyong City</td>\n",
       "      <td>SM Megamall, Ortigas, Mandaluyong City, Mandal...</td>\n",
       "      <td>121.056475</td>\n",
       "      <td>14.585318</td>\n",
       "      <td>Japanese, Sushi</td>\n",
       "      <td>...</td>\n",
       "      <td>Botswana Pula(P)</td>\n",
       "      <td>No</td>\n",
       "      <td>No</td>\n",
       "      <td>No</td>\n",
       "      <td>No</td>\n",
       "      <td>4</td>\n",
       "      <td>4.9</td>\n",
       "      <td>Dark Green</td>\n",
       "      <td>Excellent</td>\n",
       "      <td>365</td>\n",
       "    </tr>\n",
       "    <tr>\n",
       "      <th>4</th>\n",
       "      <td>6314302</td>\n",
       "      <td>Sambo Kojin</td>\n",
       "      <td>162</td>\n",
       "      <td>Mandaluyong City</td>\n",
       "      <td>Third Floor, Mega Atrium, SM Megamall, Ortigas...</td>\n",
       "      <td>SM Megamall, Ortigas, Mandaluyong City</td>\n",
       "      <td>SM Megamall, Ortigas, Mandaluyong City, Mandal...</td>\n",
       "      <td>121.057508</td>\n",
       "      <td>14.584450</td>\n",
       "      <td>Japanese, Korean</td>\n",
       "      <td>...</td>\n",
       "      <td>Botswana Pula(P)</td>\n",
       "      <td>Yes</td>\n",
       "      <td>No</td>\n",
       "      <td>No</td>\n",
       "      <td>No</td>\n",
       "      <td>4</td>\n",
       "      <td>4.8</td>\n",
       "      <td>Dark Green</td>\n",
       "      <td>Excellent</td>\n",
       "      <td>229</td>\n",
       "    </tr>\n",
       "  </tbody>\n",
       "</table>\n",
       "<p>5 rows × 21 columns</p>\n",
       "</div>"
      ],
      "text/plain": [
       "   Restaurant ID         Restaurant Name  Country Code              City  \\\n",
       "0        6317637        Le Petit Souffle           162       Makati City   \n",
       "1        6304287        Izakaya Kikufuji           162       Makati City   \n",
       "2        6300002  Heat - Edsa Shangri-La           162  Mandaluyong City   \n",
       "3        6318506                    Ooma           162  Mandaluyong City   \n",
       "4        6314302             Sambo Kojin           162  Mandaluyong City   \n",
       "\n",
       "                                             Address  \\\n",
       "0  Third Floor, Century City Mall, Kalayaan Avenu...   \n",
       "1  Little Tokyo, 2277 Chino Roces Avenue, Legaspi...   \n",
       "2  Edsa Shangri-La, 1 Garden Way, Ortigas, Mandal...   \n",
       "3  Third Floor, Mega Fashion Hall, SM Megamall, O...   \n",
       "4  Third Floor, Mega Atrium, SM Megamall, Ortigas...   \n",
       "\n",
       "                                     Locality  \\\n",
       "0   Century City Mall, Poblacion, Makati City   \n",
       "1  Little Tokyo, Legaspi Village, Makati City   \n",
       "2  Edsa Shangri-La, Ortigas, Mandaluyong City   \n",
       "3      SM Megamall, Ortigas, Mandaluyong City   \n",
       "4      SM Megamall, Ortigas, Mandaluyong City   \n",
       "\n",
       "                                    Locality Verbose   Longitude   Latitude  \\\n",
       "0  Century City Mall, Poblacion, Makati City, Mak...  121.027535  14.565443   \n",
       "1  Little Tokyo, Legaspi Village, Makati City, Ma...  121.014101  14.553708   \n",
       "2  Edsa Shangri-La, Ortigas, Mandaluyong City, Ma...  121.056831  14.581404   \n",
       "3  SM Megamall, Ortigas, Mandaluyong City, Mandal...  121.056475  14.585318   \n",
       "4  SM Megamall, Ortigas, Mandaluyong City, Mandal...  121.057508  14.584450   \n",
       "\n",
       "                           Cuisines  ...          Currency Has Table booking  \\\n",
       "0        French, Japanese, Desserts  ...  Botswana Pula(P)               Yes   \n",
       "1                          Japanese  ...  Botswana Pula(P)               Yes   \n",
       "2  Seafood, Asian, Filipino, Indian  ...  Botswana Pula(P)               Yes   \n",
       "3                   Japanese, Sushi  ...  Botswana Pula(P)                No   \n",
       "4                  Japanese, Korean  ...  Botswana Pula(P)               Yes   \n",
       "\n",
       "  Has Online delivery Is delivering now Switch to order menu Price range  \\\n",
       "0                  No                No                   No           3   \n",
       "1                  No                No                   No           3   \n",
       "2                  No                No                   No           4   \n",
       "3                  No                No                   No           4   \n",
       "4                  No                No                   No           4   \n",
       "\n",
       "   Aggregate rating  Rating color Rating text Votes  \n",
       "0               4.8    Dark Green   Excellent   314  \n",
       "1               4.5    Dark Green   Excellent   591  \n",
       "2               4.4         Green   Very Good   270  \n",
       "3               4.9    Dark Green   Excellent   365  \n",
       "4               4.8    Dark Green   Excellent   229  \n",
       "\n",
       "[5 rows x 21 columns]"
      ]
     },
     "execution_count": 15,
     "metadata": {},
     "output_type": "execute_result"
    }
   ],
   "source": [
    "dataset.head()"
   ]
  },
  {
   "cell_type": "markdown",
   "id": "1c9a4434-5087-4ecc-be35-8895adac8319",
   "metadata": {},
   "source": [
    "# Level 2"
   ]
  },
  {
   "cell_type": "markdown",
   "id": "7a631380-1765-496c-aeb1-bbe1fb013c65",
   "metadata": {},
   "source": [
    "# Task 1: Table Booking and Online Delivery"
   ]
  },
  {
   "cell_type": "markdown",
   "id": "fba209da-d14d-4ac2-91be-1124a813a984",
   "metadata": {},
   "source": [
    "# Determine the percentage of restaurants that offer table booking and online delivery."
   ]
  },
  {
   "cell_type": "code",
   "execution_count": 19,
   "id": "bf6f0b56-fca1-40d0-8b56-1b76bc264bfd",
   "metadata": {},
   "outputs": [],
   "source": [
    "table_booking_percent = (dataset[\"Has Table booking\"].value_counts(normalize=True) * 100)\n",
    "online_delivery_percent = (dataset[\"Has Online delivery\"].value_counts(normalize=True) * 100)"
   ]
  },
  {
   "cell_type": "code",
   "execution_count": 20,
   "id": "8166e7fb-6394-4271-ade2-566b25919512",
   "metadata": {},
   "outputs": [
    {
     "name": "stdout",
     "output_type": "stream",
     "text": [
      "\n",
      "Percentage of Restaurants with Table Booking:\n",
      " Has Table booking\n",
      "No     87.875615\n",
      "Yes    12.124385\n",
      "Name: proportion, dtype: float64\n",
      "\n",
      "Percentage of Restaurants with Online Delivery:\n",
      " Has Online delivery\n",
      "No     74.337766\n",
      "Yes    25.662234\n",
      "Name: proportion, dtype: float64\n"
     ]
    }
   ],
   "source": [
    "print(\"\\nPercentage of Restaurants with Table Booking:\\n\", table_booking_percent)\n",
    "print(\"\\nPercentage of Restaurants with Online Delivery:\\n\", online_delivery_percent)"
   ]
  },
  {
   "cell_type": "markdown",
   "id": "214ef441-7cf9-46b8-8ac4-c6ef58d37a09",
   "metadata": {},
   "source": [
    "# Compare the average ratings of restaurants with table booking and those without."
   ]
  },
  {
   "cell_type": "code",
   "execution_count": 22,
   "id": "f108826b-c636-43e2-a679-0c900a4858fe",
   "metadata": {},
   "outputs": [
    {
     "name": "stdout",
     "output_type": "stream",
     "text": [
      "\n",
      "Average Ratings with/without Table Booking:\n",
      " Has Table booking\n",
      "No     2.559359\n",
      "Yes    3.441969\n",
      "Name: Aggregate rating, dtype: float64\n"
     ]
    }
   ],
   "source": [
    "avg_rating_table_booking = dataset.groupby(\"Has Table booking\")[\"Aggregate rating\"].mean()\n",
    "print(\"\\nAverage Ratings with/without Table Booking:\\n\", avg_rating_table_booking)"
   ]
  },
  {
   "cell_type": "markdown",
   "id": "ebfdbb6b-387c-4cce-b115-41b9eda7bb66",
   "metadata": {},
   "source": [
    "# Analyze the availability of online delivery among restaurants with different price ranges."
   ]
  },
  {
   "cell_type": "code",
   "execution_count": 24,
   "id": "d2a9b95e-c4ea-4eb2-a2bf-f3afded2d050",
   "metadata": {},
   "outputs": [
    {
     "data": {
      "image/png": "[encoded data removed]",
      "text/plain": [
       "<Figure size 1000x600 with 1 Axes>"
      ]
     },
     "metadata": {},
     "output_type": "display_data"
    }
   ],
   "source": [
    "plt.figure(figsize=(10, 6))\n",
    "sns.countplot(data=dataset, x=\"Price range\", hue=\"Has Online delivery\", palette=\"viridis\")\n",
    "plt.title(\"Online Delivery Availability by Price Range\")\n",
    "plt.xlabel(\"Price Range\")\n",
    "plt.ylabel(\"Number of Restaurants\")\n",
    "plt.legend(title=\"Online Delivery\")\n",
    "plt.show()"
   ]
  },
  {
   "cell_type": "markdown",
   "id": "e2ee495b-f7df-4700-a07b-599a797d2426",
   "metadata": {},
   "source": [
    "# Task 2: Price Range Analysis"
   ]
  },
  {
   "cell_type": "markdown",
   "id": "b89daf71-8b85-4776-8b23-2843133e0cb3",
   "metadata": {},
   "source": [
    "#  the most common price range among all the restaurants."
   ]
  },
  {
   "cell_type": "code",
   "execution_count": 27,
   "id": "168c98f7-bd0d-49a9-b11c-0418603aa64c",
   "metadata": {},
   "outputs": [
    {
     "name": "stdout",
     "output_type": "stream",
     "text": [
      "\n",
      "Most Common Price Range: 1\n"
     ]
    }
   ],
   "source": [
    "# Most Common Price Range\n",
    "most_common_price = dataset[\"Price range\"].mode()[0]\n",
    "print(\"\\nMost Common Price Range:\", most_common_price)"
   ]
  },
  {
   "cell_type": "markdown",
   "id": "a2e37691-e09a-4501-a29f-c670677cf2f9",
   "metadata": {},
   "source": [
    "# average rating for each price range."
   ]
  },
  {
   "cell_type": "code",
   "execution_count": 29,
   "id": "058d6395-7f33-4cd6-a8eb-774c3fd73fdb",
   "metadata": {},
   "outputs": [
    {
     "name": "stdout",
     "output_type": "stream",
     "text": [
      "\n",
      "Average Rating by Price Range:\n",
      " Price range\n",
      "1    1.999887\n",
      "2    2.941054\n",
      "3    3.683381\n",
      "4    3.817918\n",
      "Name: Aggregate rating, dtype: float64\n"
     ]
    }
   ],
   "source": [
    "avg_rating_price = dataset.groupby(\"Price range\")[\"Aggregate rating\"].mean()\n",
    "print(\"\\nAverage Rating by Price Range:\\n\", avg_rating_price)"
   ]
  },
  {
   "cell_type": "markdown",
   "id": "e11465ce-8df1-4388-92ab-574e0a85400d",
   "metadata": {},
   "source": [
    "# the color that represents the highest average rating among different price ranges."
   ]
  },
  {
   "cell_type": "code",
   "execution_count": 31,
   "id": "62e50449-6fdf-4d80-b9f3-e04f320e0822",
   "metadata": {},
   "outputs": [
    {
     "name": "stdout",
     "output_type": "stream",
     "text": [
      "\n",
      "Price Range with Highest Average Rating: 4\n"
     ]
    }
   ],
   "source": [
    "max_rating_price = avg_rating_price.idxmax()\n",
    "print(\"\\nPrice Range with Highest Average Rating:\", max_rating_price)"
   ]
  },
  {
   "cell_type": "markdown",
   "id": "0121db46-0c3e-4aaa-9205-680a32aee4f8",
   "metadata": {},
   "source": [
    "# Task 3: Feature Engineering"
   ]
  },
  {
   "cell_type": "markdown",
   "id": "efa22759-b378-4803-9662-a8c4b7ce0ea9",
   "metadata": {},
   "source": [
    "# additional features from the existing columns, such as the length of the restaurant name or address."
   ]
  },
  {
   "cell_type": "code",
   "execution_count": 34,
   "id": "eaf173e5-60eb-40a1-8f8f-dca274e82cbe",
   "metadata": {},
   "outputs": [],
   "source": [
    "# Length of Restaurant Name and Address\n",
    "dataset['Name Length'] = dataset['Restaurant Name'].apply(len)\n",
    "dataset['Address Length'] = dataset['Address'].apply(len)"
   ]
  },
  {
   "cell_type": "code",
   "execution_count": 35,
   "id": "5de3cd68-598d-4afc-b26e-66e84a218dc8",
   "metadata": {},
   "outputs": [
    {
     "data": {
      "text/plain": [
       "0       16\n",
       "1       16\n",
       "2       22\n",
       "3        4\n",
       "4       11\n",
       "        ..\n",
       "9546    11\n",
       "9547    12\n",
       "9548     5\n",
       "9549    11\n",
       "9550    24\n",
       "Name: Name Length, Length: 9551, dtype: int64"
      ]
     },
     "execution_count": 35,
     "metadata": {},
     "output_type": "execute_result"
    }
   ],
   "source": [
    "dataset['Name Length']"
   ]
  },
  {
   "cell_type": "code",
   "execution_count": 36,
   "id": "beddddf6-98e5-4739-b4c3-e7b82ab7834a",
   "metadata": {},
   "outputs": [
    {
     "data": {
      "text/plain": [
       "0        71\n",
       "1        67\n",
       "2        56\n",
       "3        70\n",
       "4        64\n",
       "       ... \n",
       "9546    103\n",
       "9547     77\n",
       "9548     73\n",
       "9549     75\n",
       "9550     65\n",
       "Name: Address Length, Length: 9551, dtype: int64"
      ]
     },
     "execution_count": 36,
     "metadata": {},
     "output_type": "execute_result"
    }
   ],
   "source": [
    "dataset['Address Length']"
   ]
  },
  {
   "cell_type": "markdown",
   "id": "c37d901e-f6b7-4d38-8b3b-e4c1ede5c4b1",
   "metadata": {},
   "source": [
    "# new features like \"Has Table Booking\" or \"Has Online Delivery\" by encoding categorical variables."
   ]
  },
  {
   "cell_type": "code",
   "execution_count": 38,
   "id": "b466357a-9329-4a75-b89c-607474f74b19",
   "metadata": {},
   "outputs": [],
   "source": [
    "# Encoding 'Has Table booking' and 'Has Online delivery'\n",
    "dataset['Has Table Booking Encoded'] = dataset['Has Table booking'].map({'Yes': 1, 'No': 0})\n",
    "dataset['Has Online Delivery Encoded'] = dataset['Has Online delivery'].map({'Yes': 1, 'No': 0})"
   ]
  },
  {
   "cell_type": "code",
   "execution_count": 39,
   "id": "b476a51f-e1d1-4b8b-bf27-28096df6efe2",
   "metadata": {},
   "outputs": [
    {
     "name": "stdout",
     "output_type": "stream",
     "text": [
      "\n",
      "New Features Head:\n",
      "    Name Length  Address Length  Has Table Booking Encoded  \\\n",
      "0           16              71                          1   \n",
      "1           16              67                          1   \n",
      "2           22              56                          1   \n",
      "3            4              70                          0   \n",
      "4           11              64                          1   \n",
      "\n",
      "   Has Online Delivery Encoded  \n",
      "0                            0  \n",
      "1                            0  \n",
      "2                            0  \n",
      "3                            0  \n",
      "4                            0  \n"
     ]
    }
   ],
   "source": [
    "print(\"\\nNew Features Head:\\n\", dataset[['Name Length', 'Address Length', 'Has Table Booking Encoded', 'Has Online Delivery Encoded']].head())"
   ]
  }
 ],
 "metadata": {
  "kernelspec": {
   "display_name": "Python 3 (ipykernel)",
   "language": "python",
   "name": "python3"
  },
  "language_info": {
   "codemirror_mode": {
    "name": "ipython",
    "version": 3
   },
   "file_extension": ".py",
   "mimetype": "text/x-python",
   "name": "python",
   "nbconvert_exporter": "python",
   "pygments_lexer": "ipython3",
   "version": "3.12.4"
  }
 },
 "nbformat": 4,
 "nbformat_minor": 5
}
